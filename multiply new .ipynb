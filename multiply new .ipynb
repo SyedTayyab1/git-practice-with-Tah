{
 "cells": [
  {
   "cell_type": "markdown",
   "id": "d2fc373a-1a1d-47c1-8490-10cd1d4bc635",
   "metadata": {},
   "source": [
    "dbhsatydfasdasdgydgastygd"
   ]
  },
  {
   "cell_type": "code",
   "execution_count": null,
   "id": "dda68ab7-af44-4204-9c1b-324ee2fd491f",
   "metadata": {},
   "outputs": [],
   "source": []
  }
 ],
 "metadata": {
  "kernelspec": {
   "display_name": "Python 3 (ipykernel)",
   "language": "python",
   "name": "python3"
  },
  "language_info": {
   "codemirror_mode": {
    "name": "ipython",
    "version": 3
   },
   "file_extension": ".py",
   "mimetype": "text/x-python",
   "name": "python",
   "nbconvert_exporter": "python",
   "pygments_lexer": "ipython3",
   "version": "3.12.7"
  }
 },
 "nbformat": 4,
 "nbformat_minor": 5
}
